{
 "cells": [
  {
   "cell_type": "code",
   "execution_count": 1,
   "metadata": {},
   "outputs": [],
   "source": [
    "import numpy as np\n",
    "\n",
    "class Grid:\n",
    "    def __init__(self):\n",
    "        self.grid = np.array([\n",
    "            [' ', '*', ' ', ' ', ' '],\n",
    "            [' ', '*', ' ', ' ', ' '],\n",
    "            [' ', ' ', ' ', '*', 'O'],\n",
    "            [' ', '*', 'O', ' ', ' '],\n",
    "            [' ', ' ', ' ', ' ', '<3'],\n",
    "            ])\n",
    "        \n",
    "    def get(self, *key):\n",
    "        y, x, = key\n",
    "        return self.grid[y, x]\n",
    "        \n",
    "    def copy(self):\n",
    "        return np.copy(self.grid)\n",
    "    \n",
    "\n",
    "class Game:\n",
    "    def __init__(self, prnt_rwd=True, fName=None):\n",
    "        self.prnt_rwd = prnt_rwd\n",
    "        self.state = (0, 0)\n",
    "        self.reward_per_time = -1\n",
    "        self.reward_on_hole = -5\n",
    "        self.reward_on_love = 5\n",
    "        self.cum_rew = 25\n",
    "        self.grid = Grid()\n",
    "        self.game_over = False\n",
    "        \n",
    "    def __repr__(self):\n",
    "        return \"In this game we have to go to \"\\\n",
    "    \"the heart symbol to find the purpose \"\\\n",
    "    \"of our life and while going there \"\\\n",
    "    \"we need to avoid 'O' as they are rabbit holes\"\n",
    "        \n",
    "    def is_game_finished(self):\n",
    "        return self.grid.get(*self.state) in ['O', '<3']\n",
    "\n",
    "    def get_cum_reward(self):\n",
    "        return self.cum_rew\n",
    "\n",
    "    def _helper(self):\n",
    "        if self.grid.get(*self.state) == 'O':\n",
    "            return '0'\n",
    "        if self.grid.get(*self.state) == '<3':\n",
    "            return '<@3'\n",
    "        if self.grid.get(*self.state) == ' ':\n",
    "            return '@'\n",
    "\n",
    "    def render(self):\n",
    "        prt = self.grid.copy()\n",
    "        prt[self.state[0], self.state[1]] = self._helper() \n",
    "        print(prt)\n",
    "\n",
    "    def act(self, action):\n",
    "        if self.game_over:\n",
    "            print ('The Final Cumulated Reward: ', self.cum_rew)\n",
    "            print ('Game Over!!')\n",
    "            return None, None\n",
    "\n",
    "        cr_reward = self.get_reward()\n",
    "        movement = self.get_direction(action)\n",
    "        if not self._is_valid_move(movement):\n",
    "            print('Not a valid Move')\n",
    "            next_state = self.state\n",
    "        else:\n",
    "            next_state = self.move(movement)\n",
    "            self.game_over = self.is_game_finished()\n",
    "        self.cum_rew += cr_reward\n",
    "        if self.prnt_rwd:\n",
    "            print ('Current Reward: ', cr_reward)\n",
    "            print ('Current State: ', next_state)\n",
    "        return [tuple(next_state), self.grid.grid], cr_reward\n",
    "\n",
    "    def move(self, movement, statechange=True):\n",
    "        next_state = [0,0]\n",
    "        next_state[0] = self.state[0] + movement[0]\n",
    "        next_state[1] = self.state[1] + movement[1]\n",
    "        if statechange:\n",
    "            self.state = next_state\n",
    "        return next_state\n",
    "\n",
    "    def get_reward(self):\n",
    "        if self.grid.get(*self.state) == '<3': # heart\n",
    "            return self.reward_on_love\n",
    "        elif self.grid.get(*self.state) == 'O': #hole\n",
    "            return self.reward_on_hole\n",
    "        elif self.grid.get(*self.state) == ' ': #empty\n",
    "            return self.reward_per_time\n",
    "\n",
    "    def _is_valid_move(self, movement):\n",
    "        y_hyp = self.state[0] + movement[0] \n",
    "        x_hyp = self.state[1] + movement[1]\n",
    "        if x_hyp < 0 or y_hyp < 0:\n",
    "            return False\n",
    "\n",
    "        try:\n",
    "            if self.grid.get(y_hyp, x_hyp) == '*': # a wall\n",
    "                return False\n",
    "            else: # all cool\n",
    "                return True\n",
    "        except IndexError: # don't go out of matrix\n",
    "            return False\n",
    "\n",
    "    def get_direction(self, action):\n",
    "        if action == 'north':\n",
    "            return (-1, 0)\n",
    "        elif action == 'south':\n",
    "            return (1, 0)\n",
    "        elif action == 'west':\n",
    "            return (0, -1)\n",
    "        else: # action == 'east'\n",
    "            return (0, 1)\n"
   ]
  },
  {
   "cell_type": "code",
   "execution_count": 2,
   "metadata": {},
   "outputs": [
    {
     "data": {
      "text/plain": [
       "In this game we have to go to the heart symbol to find the purpose of our life and while going there we need to avoid 'O' as they are rabbit holes"
      ]
     },
     "execution_count": 2,
     "metadata": {},
     "output_type": "execute_result"
    }
   ],
   "source": [
    "gg = Game()\n",
    "gg"
   ]
  },
  {
   "cell_type": "code",
   "execution_count": 3,
   "metadata": {},
   "outputs": [
    {
     "name": "stdout",
     "output_type": "stream",
     "text": [
      "[['@' '*' ' ' ' ' ' ']\n",
      " [' ' '*' ' ' ' ' ' ']\n",
      " [' ' ' ' ' ' '*' 'O']\n",
      " [' ' '*' 'O' ' ' ' ']\n",
      " [' ' ' ' ' ' ' ' '<3']]\n"
     ]
    }
   ],
   "source": [
    "gg.render()"
   ]
  },
  {
   "cell_type": "code",
   "execution_count": 4,
   "metadata": {},
   "outputs": [
    {
     "name": "stdout",
     "output_type": "stream",
     "text": [
      "Not a valid Move\n",
      "Current Reward:  -1\n",
      "Current State:  (0, 0)\n",
      "[['@' '*' ' ' ' ' ' ']\n",
      " [' ' '*' ' ' ' ' ' ']\n",
      " [' ' ' ' ' ' '*' 'O']\n",
      " [' ' '*' 'O' ' ' ' ']\n",
      " [' ' ' ' ' ' ' ' '<3']]\n"
     ]
    },
    {
     "data": {
      "text/plain": [
       "24"
      ]
     },
     "execution_count": 4,
     "metadata": {},
     "output_type": "execute_result"
    }
   ],
   "source": [
    "next_state, cr_reward = gg.act('north')\n",
    "gg.render()\n",
    "gg.get_cum_reward()"
   ]
  },
  {
   "cell_type": "code",
   "execution_count": 5,
   "metadata": {},
   "outputs": [
    {
     "name": "stdout",
     "output_type": "stream",
     "text": [
      "Current Reward:  -1\n",
      "Current State:  [1, 0]\n",
      "[[' ' '*' ' ' ' ' ' ']\n",
      " ['@' '*' ' ' ' ' ' ']\n",
      " [' ' ' ' ' ' '*' 'O']\n",
      " [' ' '*' 'O' ' ' ' ']\n",
      " [' ' ' ' ' ' ' ' '<3']]\n"
     ]
    }
   ],
   "source": [
    "next_state, cr_reward = gg.act('south')\n",
    "gg.render()"
   ]
  },
  {
   "cell_type": "code",
   "execution_count": 6,
   "metadata": {},
   "outputs": [
    {
     "name": "stdout",
     "output_type": "stream",
     "text": [
      "Not a valid Move\n",
      "Current Reward:  -1\n",
      "Current State:  [1, 0]\n",
      "[[' ' '*' ' ' ' ' ' ']\n",
      " ['@' '*' ' ' ' ' ' ']\n",
      " [' ' ' ' ' ' '*' 'O']\n",
      " [' ' '*' 'O' ' ' ' ']\n",
      " [' ' ' ' ' ' ' ' '<3']]\n"
     ]
    },
    {
     "data": {
      "text/plain": [
       "22"
      ]
     },
     "execution_count": 6,
     "metadata": {},
     "output_type": "execute_result"
    }
   ],
   "source": [
    "next_state, cr_reward = gg.act('west')\n",
    "gg.render()\n",
    "gg.get_cum_reward()"
   ]
  },
  {
   "cell_type": "code",
   "execution_count": 7,
   "metadata": {},
   "outputs": [
    {
     "name": "stdout",
     "output_type": "stream",
     "text": [
      "Current Reward:  -1\n",
      "Current State:  [2, 0]\n",
      "[[' ' '*' ' ' ' ' ' ']\n",
      " [' ' '*' ' ' ' ' ' ']\n",
      " ['@' ' ' ' ' '*' 'O']\n",
      " [' ' '*' 'O' ' ' ' ']\n",
      " [' ' ' ' ' ' ' ' '<3']]\n"
     ]
    },
    {
     "data": {
      "text/plain": [
       "21"
      ]
     },
     "execution_count": 7,
     "metadata": {},
     "output_type": "execute_result"
    }
   ],
   "source": [
    "next_state, cr_reward = gg.act('south')\n",
    "gg.render()\n",
    "gg.get_cum_reward()"
   ]
  },
  {
   "cell_type": "code",
   "execution_count": 8,
   "metadata": {},
   "outputs": [
    {
     "name": "stdout",
     "output_type": "stream",
     "text": [
      "Current Reward:  -1\n",
      "Current State:  [2, 1]\n",
      "[[' ' '*' ' ' ' ' ' ']\n",
      " [' ' '*' ' ' ' ' ' ']\n",
      " [' ' '@' ' ' '*' 'O']\n",
      " [' ' '*' 'O' ' ' ' ']\n",
      " [' ' ' ' ' ' ' ' '<3']]\n"
     ]
    },
    {
     "data": {
      "text/plain": [
       "20"
      ]
     },
     "execution_count": 8,
     "metadata": {},
     "output_type": "execute_result"
    }
   ],
   "source": [
    "next_state, cr_reward = gg.act('east')\n",
    "gg.render()\n",
    "gg.get_cum_reward()"
   ]
  },
  {
   "cell_type": "code",
   "execution_count": 9,
   "metadata": {},
   "outputs": [
    {
     "name": "stdout",
     "output_type": "stream",
     "text": [
      "Not a valid Move\n",
      "Current Reward:  -1\n",
      "Current State:  [2, 1]\n",
      "[[' ' '*' ' ' ' ' ' ']\n",
      " [' ' '*' ' ' ' ' ' ']\n",
      " [' ' '@' ' ' '*' 'O']\n",
      " [' ' '*' 'O' ' ' ' ']\n",
      " [' ' ' ' ' ' ' ' '<3']]\n"
     ]
    },
    {
     "data": {
      "text/plain": [
       "19"
      ]
     },
     "execution_count": 9,
     "metadata": {},
     "output_type": "execute_result"
    }
   ],
   "source": [
    "next_state, cr_reward = gg.act('north')\n",
    "gg.render()\n",
    "gg.get_cum_reward()"
   ]
  },
  {
   "cell_type": "code",
   "execution_count": 10,
   "metadata": {},
   "outputs": [
    {
     "name": "stdout",
     "output_type": "stream",
     "text": [
      "Current Reward:  -1\n",
      "Current State:  [2, 2]\n",
      "[[' ' '*' ' ' ' ' ' ']\n",
      " [' ' '*' ' ' ' ' ' ']\n",
      " [' ' ' ' '@' '*' 'O']\n",
      " [' ' '*' 'O' ' ' ' ']\n",
      " [' ' ' ' ' ' ' ' '<3']]\n"
     ]
    },
    {
     "data": {
      "text/plain": [
       "18"
      ]
     },
     "execution_count": 10,
     "metadata": {},
     "output_type": "execute_result"
    }
   ],
   "source": [
    "next_state, cr_reward = gg.act('east')\n",
    "gg.render()\n",
    "gg.get_cum_reward()"
   ]
  },
  {
   "cell_type": "code",
   "execution_count": 11,
   "metadata": {},
   "outputs": [
    {
     "name": "stdout",
     "output_type": "stream",
     "text": [
      "Current Reward:  -1\n",
      "Current State:  [3, 2]\n",
      "[[' ' '*' ' ' ' ' ' ']\n",
      " [' ' '*' ' ' ' ' ' ']\n",
      " [' ' ' ' ' ' '*' 'O']\n",
      " [' ' '*' '0' ' ' ' ']\n",
      " [' ' ' ' ' ' ' ' '<3']]\n"
     ]
    },
    {
     "data": {
      "text/plain": [
       "17"
      ]
     },
     "execution_count": 11,
     "metadata": {},
     "output_type": "execute_result"
    }
   ],
   "source": [
    "next_state, cr_reward = gg.act('south')\n",
    "gg.render()\n",
    "gg.get_cum_reward()"
   ]
  },
  {
   "cell_type": "code",
   "execution_count": 12,
   "metadata": {},
   "outputs": [
    {
     "name": "stdout",
     "output_type": "stream",
     "text": [
      "The Final Cumulated Reward:  17\n",
      "Game Over!!\n",
      "[[' ' '*' ' ' ' ' ' ']\n",
      " [' ' '*' ' ' ' ' ' ']\n",
      " [' ' ' ' ' ' '*' 'O']\n",
      " [' ' '*' '0' ' ' ' ']\n",
      " [' ' ' ' ' ' ' ' '<3']]\n"
     ]
    },
    {
     "data": {
      "text/plain": [
       "17"
      ]
     },
     "execution_count": 12,
     "metadata": {},
     "output_type": "execute_result"
    }
   ],
   "source": [
    "next_state, cr_reward = gg.act('east')\n",
    "gg.render()\n",
    "gg.get_cum_reward()"
   ]
  },
  {
   "cell_type": "code",
   "execution_count": 13,
   "metadata": {},
   "outputs": [
    {
     "name": "stdout",
     "output_type": "stream",
     "text": [
      "The Final Cumulated Reward:  17\n",
      "Game Over!!\n",
      "[[' ' '*' ' ' ' ' ' ']\n",
      " [' ' '*' ' ' ' ' ' ']\n",
      " [' ' ' ' ' ' '*' 'O']\n",
      " [' ' '*' '0' ' ' ' ']\n",
      " [' ' ' ' ' ' ' ' '<3']]\n"
     ]
    },
    {
     "data": {
      "text/plain": [
       "17"
      ]
     },
     "execution_count": 13,
     "metadata": {},
     "output_type": "execute_result"
    }
   ],
   "source": [
    "next_state, cr_reward = gg.act('east')\n",
    "gg.render()\n",
    "gg.get_cum_reward()"
   ]
  },
  {
   "cell_type": "code",
   "execution_count": 14,
   "metadata": {},
   "outputs": [
    {
     "name": "stdout",
     "output_type": "stream",
     "text": [
      "The Final Cumulated Reward:  17\n",
      "Game Over!!\n",
      "[[' ' '*' ' ' ' ' ' ']\n",
      " [' ' '*' ' ' ' ' ' ']\n",
      " [' ' ' ' ' ' '*' 'O']\n",
      " [' ' '*' '0' ' ' ' ']\n",
      " [' ' ' ' ' ' ' ' '<3']]\n"
     ]
    },
    {
     "data": {
      "text/plain": [
       "17"
      ]
     },
     "execution_count": 14,
     "metadata": {},
     "output_type": "execute_result"
    }
   ],
   "source": [
    "next_state, cr_reward = gg.act('south')\n",
    "gg.render()\n",
    "gg.get_cum_reward()"
   ]
  },
  {
   "cell_type": "code",
   "execution_count": 15,
   "metadata": {},
   "outputs": [
    {
     "data": {
      "text/plain": [
       "17"
      ]
     },
     "execution_count": 15,
     "metadata": {},
     "output_type": "execute_result"
    }
   ],
   "source": [
    "gg.get_cum_reward()"
   ]
  },
  {
   "cell_type": "code",
   "execution_count": null,
   "metadata": {},
   "outputs": [],
   "source": []
  }
 ],
 "metadata": {
  "kernelspec": {
   "display_name": "Python 3",
   "language": "python",
   "name": "python3"
  },
  "language_info": {
   "codemirror_mode": {
    "name": "ipython",
    "version": 3
   },
   "file_extension": ".py",
   "mimetype": "text/x-python",
   "name": "python",
   "nbconvert_exporter": "python",
   "pygments_lexer": "ipython3",
   "version": "3.6.8"
  }
 },
 "nbformat": 4,
 "nbformat_minor": 2
}
