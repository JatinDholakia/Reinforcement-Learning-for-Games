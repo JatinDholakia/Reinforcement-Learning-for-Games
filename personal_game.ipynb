{
 "cells": [
  {
   "cell_type": "code",
   "execution_count": 125,
   "metadata": {},
   "outputs": [],
   "source": [
    "import numpy as np\n",
    "\n",
    "class Grid:\n",
    "    def __init__(self):\n",
    "        self.grid = np.array([\n",
    "            [' ', '*', ' ', ' ', ' '],\n",
    "            [' ', '*', ' ', ' ', ' '],\n",
    "            [' ', ' ', ' ', '*', 'O'],\n",
    "            [' ', '*', 'O', ' ', ' '],\n",
    "            [' ', ' ', ' ', ' ', '<3'],\n",
    "            ])\n",
    "        \n",
    "    def get(self, *key):\n",
    "        y, x, = key\n",
    "        return self.grid[y, x]\n",
    "    \n",
    "#     def __setattr__(self, key, value):\n",
    "#         y, x = key\n",
    "#         self.grid[y, x] = value\n",
    "        \n",
    "    def copy(self):\n",
    "        return np.copy(self.grid)\n",
    "    \n",
    "\n",
    "class Game:\n",
    "    def __init__(self, prnt_rwd=True, fName=None):\n",
    "        self.prnt_rwd = prnt_rwd\n",
    "        self.state = (0, 0)\n",
    "        self.reward_per_time = -1\n",
    "        self.reward_on_hole = -5\n",
    "        self.reward_on_love = 5\n",
    "        self.cum_rew = 0\n",
    "        self.grid = Grid()\n",
    "        \n",
    "    def __repr__(self):\n",
    "        return \"In this game we have to go to \"\\\n",
    "    \"the heart symbol to find the purpose \"\\\n",
    "    \"of our life and while going there \"\\\n",
    "    \"we need to avoid 'O' as they are rabbit holes\"\n",
    "        \n",
    "\n",
    "    def get_cum_reward(self):\n",
    "        return self.cum_rew\n",
    "\n",
    "    def _helper(self):\n",
    "        if self.grid.get(*self.state) == 'O':\n",
    "            return '0'\n",
    "        if self.grid.get(*self.state) == '<3':\n",
    "            return '<@3'\n",
    "        if self.grid.get(*self.state) == ' ':\n",
    "            return '@'\n",
    "\n",
    "    def render(self):\n",
    "        prt = self.grid.copy()\n",
    "        prt[self.state[0], self.state[1]] = self._helper() \n",
    "        print(prt)\n",
    "\n",
    "    def act(self, action):\n",
    "        cr_reward = self.get_reward()\n",
    "        movement = self.get_direction(action)\n",
    "        if not self._is_valid_move(movement):\n",
    "            print('Not a valid Move')\n",
    "            next_state = self.state\n",
    "        else:\n",
    "            next_state = self.move(movement)\n",
    "        self.cum_rew += cr_reward\n",
    "        if self.prnt_rwd:\n",
    "            print ('current reward: ', cr_reward)\n",
    "        return next_state, cr_reward\n",
    "\n",
    "    def move(self, movement, statechange=True):\n",
    "        next_state = [0,0]\n",
    "        next_state[0] = self.state[0] + movement[0]\n",
    "        next_state[1] = self.state[1] + movement[1]\n",
    "        if statechange:\n",
    "            self.state = next_state\n",
    "        return next_state\n",
    "\n",
    "    def get_reward(self):\n",
    "        if self.grid.get(*self.state) == '<3': # heart\n",
    "            return self.reward_on_love\n",
    "        elif self.grid.get(*self.state) == 'O': #hole\n",
    "            return self.reward_on_hole\n",
    "        elif self.grid.get(*self.state) == ' ': #empty\n",
    "            return self.reward_per_time\n",
    "\n",
    "    def _is_valid_move(self, movement):\n",
    "        y_hyp = self.state[0] + movement[0] \n",
    "        x_hyp = self.state[1] + movement[1]\n",
    "        if x_hyp < 0 or y_hyp < 0:\n",
    "            return False\n",
    "\n",
    "        try:\n",
    "            if self.grid.get(y_hyp, x_hyp) == '*': # a wall\n",
    "                return False\n",
    "            else: # all cool\n",
    "                return True\n",
    "        except IndexError: # don't go out of matrix\n",
    "            return False\n",
    "\n",
    "    def get_direction(self, action):\n",
    "        if action == 'north':\n",
    "            return (-1, 0)\n",
    "        elif action == 'south':\n",
    "            return (1, 0)\n",
    "        elif action == 'west':\n",
    "            return (0, -1)\n",
    "        else: # action == 'east'\n",
    "            return (0, 1)\n"
   ]
  },
  {
   "cell_type": "code",
   "execution_count": 126,
   "metadata": {},
   "outputs": [
    {
     "data": {
      "text/plain": [
       "In this game we have to go to the heart symbol to find the purpose of our life and while going there we need to avoid 'O' as they are rabbit holes"
      ]
     },
     "execution_count": 126,
     "metadata": {},
     "output_type": "execute_result"
    }
   ],
   "source": [
    "gg = Game()\n",
    "gg"
   ]
  },
  {
   "cell_type": "code",
   "execution_count": 127,
   "metadata": {},
   "outputs": [
    {
     "name": "stdout",
     "output_type": "stream",
     "text": [
      "[['@' '*' ' ' ' ' ' ']\n",
      " [' ' '*' ' ' ' ' ' ']\n",
      " [' ' ' ' ' ' '*' 'O']\n",
      " [' ' '*' 'O' ' ' ' ']\n",
      " [' ' ' ' ' ' ' ' '<3']]\n"
     ]
    }
   ],
   "source": [
    "gg.render()"
   ]
  },
  {
   "cell_type": "code",
   "execution_count": 128,
   "metadata": {},
   "outputs": [
    {
     "name": "stdout",
     "output_type": "stream",
     "text": [
      "Not a valid Move\n",
      "current reward:  -1\n",
      "[['@' '*' ' ' ' ' ' ']\n",
      " [' ' '*' ' ' ' ' ' ']\n",
      " [' ' ' ' ' ' '*' 'O']\n",
      " [' ' '*' 'O' ' ' ' ']\n",
      " [' ' ' ' ' ' ' ' '<3']]\n"
     ]
    }
   ],
   "source": [
    "gg.act('north')\n",
    "gg.render()"
   ]
  },
  {
   "cell_type": "code",
   "execution_count": 129,
   "metadata": {},
   "outputs": [
    {
     "name": "stdout",
     "output_type": "stream",
     "text": [
      "current reward:  -1\n",
      "[[' ' '*' ' ' ' ' ' ']\n",
      " ['@' '*' ' ' ' ' ' ']\n",
      " [' ' ' ' ' ' '*' 'O']\n",
      " [' ' '*' 'O' ' ' ' ']\n",
      " [' ' ' ' ' ' ' ' '<3']]\n"
     ]
    }
   ],
   "source": [
    "gg.act('south')\n",
    "gg.render()"
   ]
  },
  {
   "cell_type": "code",
   "execution_count": 130,
   "metadata": {},
   "outputs": [
    {
     "name": "stdout",
     "output_type": "stream",
     "text": [
      "Not a valid Move\n",
      "current reward:  -1\n",
      "[[' ' '*' ' ' ' ' ' ']\n",
      " ['@' '*' ' ' ' ' ' ']\n",
      " [' ' ' ' ' ' '*' 'O']\n",
      " [' ' '*' 'O' ' ' ' ']\n",
      " [' ' ' ' ' ' ' ' '<3']]\n"
     ]
    }
   ],
   "source": [
    "gg.act('west')\n",
    "gg.render()"
   ]
  },
  {
   "cell_type": "code",
   "execution_count": 131,
   "metadata": {},
   "outputs": [
    {
     "name": "stdout",
     "output_type": "stream",
     "text": [
      "current reward:  -1\n",
      "[[' ' '*' ' ' ' ' ' ']\n",
      " [' ' '*' ' ' ' ' ' ']\n",
      " ['@' ' ' ' ' '*' 'O']\n",
      " [' ' '*' 'O' ' ' ' ']\n",
      " [' ' ' ' ' ' ' ' '<3']]\n"
     ]
    }
   ],
   "source": [
    "gg.act('south')\n",
    "gg.render()"
   ]
  },
  {
   "cell_type": "code",
   "execution_count": 132,
   "metadata": {},
   "outputs": [
    {
     "name": "stdout",
     "output_type": "stream",
     "text": [
      "current reward:  -1\n",
      "[[' ' '*' ' ' ' ' ' ']\n",
      " [' ' '*' ' ' ' ' ' ']\n",
      " [' ' '@' ' ' '*' 'O']\n",
      " [' ' '*' 'O' ' ' ' ']\n",
      " [' ' ' ' ' ' ' ' '<3']]\n"
     ]
    }
   ],
   "source": [
    "gg.act('east')\n",
    "gg.render()"
   ]
  },
  {
   "cell_type": "code",
   "execution_count": 133,
   "metadata": {},
   "outputs": [
    {
     "name": "stdout",
     "output_type": "stream",
     "text": [
      "Not a valid Move\n",
      "current reward:  -1\n",
      "[[' ' '*' ' ' ' ' ' ']\n",
      " [' ' '*' ' ' ' ' ' ']\n",
      " [' ' '@' ' ' '*' 'O']\n",
      " [' ' '*' 'O' ' ' ' ']\n",
      " [' ' ' ' ' ' ' ' '<3']]\n"
     ]
    }
   ],
   "source": [
    "gg.act('north')\n",
    "gg.render()"
   ]
  },
  {
   "cell_type": "code",
   "execution_count": 134,
   "metadata": {},
   "outputs": [
    {
     "name": "stdout",
     "output_type": "stream",
     "text": [
      "current reward:  -1\n",
      "[[' ' '*' ' ' ' ' ' ']\n",
      " [' ' '*' ' ' ' ' ' ']\n",
      " [' ' ' ' '@' '*' 'O']\n",
      " [' ' '*' 'O' ' ' ' ']\n",
      " [' ' ' ' ' ' ' ' '<3']]\n"
     ]
    }
   ],
   "source": [
    "gg.act('east')\n",
    "gg.render()"
   ]
  },
  {
   "cell_type": "code",
   "execution_count": 135,
   "metadata": {},
   "outputs": [
    {
     "name": "stdout",
     "output_type": "stream",
     "text": [
      "current reward:  -1\n",
      "[[' ' '*' ' ' ' ' ' ']\n",
      " [' ' '*' ' ' ' ' ' ']\n",
      " [' ' ' ' ' ' '*' 'O']\n",
      " [' ' '*' '0' ' ' ' ']\n",
      " [' ' ' ' ' ' ' ' '<3']]\n"
     ]
    }
   ],
   "source": [
    "gg.act('south')\n",
    "gg.render()"
   ]
  },
  {
   "cell_type": "code",
   "execution_count": 136,
   "metadata": {},
   "outputs": [
    {
     "name": "stdout",
     "output_type": "stream",
     "text": [
      "current reward:  -5\n",
      "[[' ' '*' ' ' ' ' ' ']\n",
      " [' ' '*' ' ' ' ' ' ']\n",
      " [' ' ' ' ' ' '*' 'O']\n",
      " [' ' '*' 'O' '@' ' ']\n",
      " [' ' ' ' ' ' ' ' '<3']]\n"
     ]
    }
   ],
   "source": [
    "gg.act('east')\n",
    "gg.render()"
   ]
  },
  {
   "cell_type": "code",
   "execution_count": 137,
   "metadata": {},
   "outputs": [
    {
     "name": "stdout",
     "output_type": "stream",
     "text": [
      "current reward:  -1\n",
      "[[' ' '*' ' ' ' ' ' ']\n",
      " [' ' '*' ' ' ' ' ' ']\n",
      " [' ' ' ' ' ' '*' 'O']\n",
      " [' ' '*' 'O' ' ' '@']\n",
      " [' ' ' ' ' ' ' ' '<3']]\n"
     ]
    }
   ],
   "source": [
    "gg.act('east')\n",
    "gg.render()"
   ]
  },
  {
   "cell_type": "code",
   "execution_count": 138,
   "metadata": {},
   "outputs": [
    {
     "name": "stdout",
     "output_type": "stream",
     "text": [
      "current reward:  -1\n",
      "[[' ' '*' ' ' ' ' ' ']\n",
      " [' ' '*' ' ' ' ' ' ']\n",
      " [' ' ' ' ' ' '*' 'O']\n",
      " [' ' '*' 'O' ' ' ' ']\n",
      " [' ' ' ' ' ' ' ' '<@']]\n"
     ]
    }
   ],
   "source": [
    "gg.act('south')\n",
    "gg.render()"
   ]
  },
  {
   "cell_type": "code",
   "execution_count": 139,
   "metadata": {},
   "outputs": [
    {
     "data": {
      "text/plain": [
       "-15"
      ]
     },
     "execution_count": 139,
     "metadata": {},
     "output_type": "execute_result"
    }
   ],
   "source": [
    "gg.get_cum_reward()"
   ]
  },
  {
   "cell_type": "code",
   "execution_count": null,
   "metadata": {},
   "outputs": [],
   "source": []
  }
 ],
 "metadata": {
  "kernelspec": {
   "display_name": "Python 3",
   "language": "python",
   "name": "python3"
  },
  "language_info": {
   "codemirror_mode": {
    "name": "ipython",
    "version": 3
   },
   "file_extension": ".py",
   "mimetype": "text/x-python",
   "name": "python",
   "nbconvert_exporter": "python",
   "pygments_lexer": "ipython3",
   "version": "3.6.8"
  }
 },
 "nbformat": 4,
 "nbformat_minor": 2
}
