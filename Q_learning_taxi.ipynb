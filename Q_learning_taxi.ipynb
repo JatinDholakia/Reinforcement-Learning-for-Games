{
  "nbformat": 4,
  "nbformat_minor": 0,
  "metadata": {
    "colab": {
      "name": "Q-learning-taxi.ipynb",
      "version": "0.3.2",
      "provenance": [],
      "collapsed_sections": []
    },
    "kernelspec": {
      "name": "python3",
      "display_name": "Python 3"
    }
  },
  "cells": [
    {
      "metadata": {
        "id": "odNaDE1zyrL2",
        "colab_type": "text"
      },
      "cell_type": "markdown",
      "source": [
        "# install dependancies, takes around 45 seconds\n",
        "\n",
        "Rendering Dependancies\n",
        "\n"
      ]
    },
    {
      "metadata": {
        "id": "8-AxnvAVyzQQ",
        "colab_type": "code",
        "colab": {}
      },
      "cell_type": "code",
      "source": [
        "#remove \" > /dev/null 2>&1\" to see what is going on under the hood\n",
        "!pip install gym pyvirtualdisplay > /dev/null 2>&1\n",
        "!apt-get install -y xvfb python-opengl ffmpeg > /dev/null 2>&1"
      ],
      "execution_count": 0,
      "outputs": []
    },
    {
      "metadata": {
        "id": "8A-1LTSH88EE",
        "colab_type": "text"
      },
      "cell_type": "markdown",
      "source": [
        "Pacman Dependancies"
      ]
    },
    {
      "metadata": {
        "id": "TCelFzWY9MBI",
        "colab_type": "code",
        "outputId": "c5908c9d-f757-4ab5-f4a3-9a4090dd07a8",
        "colab": {
          "base_uri": "https://localhost:8080/",
          "height": 34
        }
      },
      "cell_type": "code",
      "source": [
        "!apt-get update > /dev/null 2>&1\n",
        "!apt-get install cmake > /dev/null 2>&1\n",
        "!pip install --upgrade setuptools 2>&1\n",
        "!pip install ez_setup > /dev/null 2>&1\n",
        "!pip install gym[atari] > /dev/null 2>&1"
      ],
      "execution_count": 2,
      "outputs": [
        {
          "output_type": "stream",
          "text": [
            "Requirement already up-to-date: setuptools in /usr/local/lib/python3.6/dist-packages (40.8.0)\n"
          ],
          "name": "stdout"
        }
      ]
    },
    {
      "metadata": {
        "id": "APXSx7hg19TH",
        "colab_type": "text"
      },
      "cell_type": "markdown",
      "source": [
        "# Imports and Helper functions\n"
      ]
    },
    {
      "metadata": {
        "id": "pdb2JwZy4jGj",
        "colab_type": "code",
        "colab": {}
      },
      "cell_type": "code",
      "source": [
        "import gym\n",
        "from gym import logger as gymlogger\n",
        "from gym.wrappers import Monitor\n",
        "gymlogger.set_level(40) #error only\n",
        "import tensorflow as tf\n",
        "import numpy as np\n",
        "import random\n",
        "import matplotlib\n",
        "import matplotlib.pyplot as plt\n",
        "%matplotlib inline\n",
        "import math\n",
        "import glob\n",
        "import io\n",
        "import base64\n",
        "from IPython.display import HTML\n",
        "\n",
        "from IPython import display as ipythondisplay"
      ],
      "execution_count": 0,
      "outputs": []
    },
    {
      "metadata": {
        "id": "nQEtc28G4niA",
        "colab_type": "code",
        "outputId": "1b28a5ad-58a6-4376-f4c3-04abc16bc910",
        "colab": {
          "base_uri": "https://localhost:8080/",
          "height": 53
        }
      },
      "cell_type": "code",
      "source": [
        "from pyvirtualdisplay import Display\n",
        "display = Display(visible=0, size=(1400, 900))\n",
        "display.start()"
      ],
      "execution_count": 0,
      "outputs": [
        {
          "output_type": "execute_result",
          "data": {
            "text/plain": [
              "<Display cmd_param=['Xvfb', '-br', '-nolisten', 'tcp', '-screen', '0', '1400x900x24', ':1001'] cmd=['Xvfb', '-br', '-nolisten', 'tcp', '-screen', '0', '1400x900x24', ':1001'] oserror=None return_code=None stdout=\"None\" stderr=\"None\" timeout_happened=False>"
            ]
          },
          "metadata": {
            "tags": []
          },
          "execution_count": 5
        }
      ]
    },
    {
      "metadata": {
        "id": "G9UWeToN4r7D",
        "colab_type": "code",
        "colab": {}
      },
      "cell_type": "code",
      "source": [
        "\"\"\"\n",
        "Utility functions to enable video recording of gym environment and displaying it\n",
        "To enable video, just do \"env = wrap_env(env)\"\"\n",
        "\"\"\"\n",
        "\n",
        "def show_video():\n",
        "  mp4list = glob.glob('video/*.mp4')\n",
        "  if len(mp4list) > 0:\n",
        "    mp4 = mp4list[0]\n",
        "    video = io.open(mp4, 'r+b').read()\n",
        "    encoded = base64.b64encode(video)\n",
        "    ipythondisplay.display(HTML(data='''<video alt=\"test\" autoplay \n",
        "                loop controls style=\"height: 400px;\">\n",
        "                <source src=\"data:video/mp4;base64,{0}\" type=\"video/mp4\" />\n",
        "             </video>'''.format(encoded.decode('ascii'))))\n",
        "  else: \n",
        "    print(\"Could not find video\")\n",
        "    \n",
        "\n",
        "def wrap_env(env):\n",
        "  env = Monitor(env, './video', force=True)\n",
        "  return env"
      ],
      "execution_count": 0,
      "outputs": []
    },
    {
      "metadata": {
        "id": "Dgh6VM5tbPFO",
        "colab_type": "text"
      },
      "cell_type": "markdown",
      "source": [
        "# Q-Learning Implementation"
      ]
    },
    {
      "metadata": {
        "id": "3iiikBR31hRR",
        "colab_type": "code",
        "outputId": "9426b67c-c104-4f34-c501-91aa36e8c9fe",
        "colab": {
          "base_uri": "https://localhost:8080/",
          "height": 34
        }
      },
      "cell_type": "code",
      "source": [
        "import gym\n",
        "\n",
        "env = gym.make(\"Taxi-v2\")\n",
        "env.reset()\n",
        "counter = 0\n",
        "reward = 0\n",
        "while reward < 20:\n",
        "  #  print (\"reward : \",reward,\"ittereation : \",counter)\n",
        "    state, reward, done, info = env.step(env.action_space.sample())\n",
        "    counter +=1\n",
        "print('Random Actions Complete the game in ',counter,'iterations')"
      ],
      "execution_count": 7,
      "outputs": [
        {
          "output_type": "stream",
          "text": [
            "Random Actions Complete the game in  2266 iterations\n"
          ],
          "name": "stdout"
        }
      ]
    },
    {
      "metadata": {
        "id": "tTl42v9hWV2I",
        "colab_type": "code",
        "colab": {}
      },
      "cell_type": "code",
      "source": [
        ""
      ],
      "execution_count": 0,
      "outputs": []
    },
    {
      "metadata": {
        "id": "SeTjPaWegA3o",
        "colab_type": "text"
      },
      "cell_type": "markdown",
      "source": [
        "## Updating Q-Table in every iteration"
      ]
    },
    {
      "metadata": {
        "id": "r_RIQzl4aFLH",
        "colab_type": "code",
        "colab": {}
      },
      "cell_type": "code",
      "source": [
        "import numpy as np\n",
        "Q = np.zeros([env.observation_space.n, env.action_space.n])\n",
        "G= 0\n",
        "alpha = 0.2\n",
        "l=[]\n",
        "for episode in range(1000):\n",
        "    done = False\n",
        "    G, reward = 0,0\n",
        "    state = env.reset()\n",
        "    while done != True:\n",
        "            action = np.argmax(Q[state]) #1\n",
        "            state2, reward, done, info = env.step(action) #2\n",
        "            Q[state,action] += alpha * (reward + np.max(Q[state2]) - Q[state,action]) #3\n",
        "            G += reward\n",
        "            state = state2\n",
        "    l.append(G)  "
      ],
      "execution_count": 0,
      "outputs": []
    },
    {
      "metadata": {
        "id": "UZoFfrtS-Byc",
        "colab_type": "code",
        "colab": {}
      },
      "cell_type": "code",
      "source": [
        "import numpy as np\n",
        "Q = np.zeros([env.observation_space.n, env.action_space.n])\n",
        "alphalist = np.linspace(0.01,0.99,20)\n",
        "l=[]\n",
        "i=0\n",
        "while i<len(alphalist):\n",
        "      count = 0\n",
        "      alpha = alphalist[i]\n",
        "      G= 0\n",
        "      while G<10:\n",
        "          done = False\n",
        "          G, reward = 0,0\n",
        "          state = env.reset()\n",
        "          while done != True:\n",
        "                  action = np.argmax(Q[state]) #1\n",
        "                  state2, reward, done, info = env.step(action) #2\n",
        "\n",
        "                  Q[state,action] += alpha * (reward + np.max(Q[state2]) - Q[state,action]) #3\n",
        "                  G += reward\n",
        "                  state = state2\n",
        "          count += 1\n",
        "      l.append(count)\n",
        "      i += 1 "
      ],
      "execution_count": 0,
      "outputs": []
    },
    {
      "metadata": {
        "id": "O-GiWTWygLxi",
        "colab_type": "text"
      },
      "cell_type": "markdown",
      "source": [
        "## Plotting the reward obtained"
      ]
    },
    {
      "metadata": {
        "id": "_snCjyQHaFIt",
        "colab_type": "code",
        "outputId": "6700e548-1b1b-4523-e798-b94a0c80fb39",
        "colab": {
          "base_uri": "https://localhost:8080/",
          "height": 328
        }
      },
      "cell_type": "code",
      "source": [
        "import matplotlib.pyplot as plt\n",
        "from google.colab import files\n",
        "%matplotlib inline\n",
        "l = np.array(l)\n",
        "#l_avg = np.mean(l.reshape(-1, 10), axis=1)   # Average reward over every 10 iterations\n",
        "plt.scatter(np.arange(len(l)),l)\n",
        "plt.xlabel('Number of Episode')\n",
        "plt.ylabel('Cumulative Reward')\n",
        "plt.title('Using Q table')\n",
        "print('Maximum available Reward = 20')\n",
        "print('Maximum Reward Obtained = ', np.max(l))\n",
        "#plt.savefig('Reward vs Iteration.png')\n",
        "#files.download(\"Reward vs Iteration.png\") "
      ],
      "execution_count": 11,
      "outputs": [
        {
          "output_type": "stream",
          "text": [
            "Maximum available Reward = 20\n",
            "Maximum Reward Obtained =  802\n"
          ],
          "name": "stdout"
        },
        {
          "output_type": "display_data",
          "data": {
            "image/png": "[encoded data removed]",
            "text/plain": [
              "<Figure size 432x288 with 1 Axes>"
            ]
          },
          "metadata": {
            "tags": []
          }
        }
      ]
    },
    {
      "metadata": {
        "id": "-4xzlOv-qfPa",
        "colab_type": "code",
        "outputId": "99cf4c51-ce76-4ec6-d481-a232cda72dd5",
        "colab": {
          "base_uri": "https://localhost:8080/",
          "height": 294
        }
      },
      "cell_type": "code",
      "source": [
        "plt.hist(l)\n",
        "plt.ylabel('Number of Episodes')\n",
        "plt.xlabel('Cumulative Reward')\n",
        "plt.title('Using Q Table');\n"
      ],
      "execution_count": 12,
      "outputs": [
        {
          "output_type": "display_data",
          "data": {
            "image/png": "[encoded data removed]",
            "text/plain": [
              "<Figure size 432x288 with 1 Axes>"
            ]
          },
          "metadata": {
            "tags": []
          }
        }
      ]
    },
    {
      "metadata": {
        "id": "nxTVQBYevppK",
        "colab_type": "code",
        "colab": {}
      },
      "cell_type": "code",
      "source": [
        ""
      ],
      "execution_count": 0,
      "outputs": []
    },
    {
      "metadata": {
        "id": "6Sjp0_wtqlCa",
        "colab_type": "text"
      },
      "cell_type": "markdown",
      "source": [
        ""
      ]
    },
    {
      "metadata": {
        "id": "4Wsj02WZa-f8",
        "colab_type": "text"
      },
      "cell_type": "markdown",
      "source": [
        "[link text](https://)### Goal increases progressively as it should be in case of Q-Learning.\n",
        "### Optimization over increasing Reward"
      ]
    },
    {
      "metadata": {
        "id": "MwfFRuGSaFFD",
        "colab_type": "code",
        "outputId": "3576aa39-9952-47e8-d401-df3dda9b538b",
        "colab": {
          "base_uri": "https://localhost:8080/",
          "height": 34
        }
      },
      "cell_type": "code",
      "source": [
        "Q.shape"
      ],
      "execution_count": 13,
      "outputs": [
        {
          "output_type": "execute_result",
          "data": {
            "text/plain": [
              "(500, 6)"
            ]
          },
          "metadata": {
            "tags": []
          },
          "execution_count": 13
        }
      ]
    },
    {
      "metadata": {
        "id": "uBSgXpMkgoNm",
        "colab_type": "text"
      },
      "cell_type": "markdown",
      "source": [
        "### The number of states are represented by rows and number of possible actions by columns"
      ]
    },
    {
      "metadata": {
        "id": "vtaR2sKGbtgr",
        "colab_type": "text"
      },
      "cell_type": "markdown",
      "source": [
        "### use updated Q table"
      ]
    },
    {
      "metadata": {
        "id": "99uxfg9aaPeS",
        "colab_type": "code",
        "colab": {}
      },
      "cell_type": "code",
      "source": [
        "# using the updated Q values\n",
        "import numpy as np\n",
        "G= 0\n",
        "alpha = 0.618\n",
        "l=[]\n",
        "for episode in range(1,1001):\n",
        "    done = False\n",
        "    G, reward = 0,0\n",
        "    state = env.reset()\n",
        "    while done != True:\n",
        "            action = np.argmax(Q[state]) #1\n",
        "            state, reward, done, info = env.step(action) #2\n",
        "            #Q[state,action] += alpha * (reward + np.max(Q[state2]) - Q[state,action]) #3\n",
        "            G += reward\n",
        "            #state = state2\n",
        "    l.append(G)\n"
      ],
      "execution_count": 0,
      "outputs": []
    },
    {
      "metadata": {
        "id": "xC_6c_QJabq6",
        "colab_type": "code",
        "outputId": "111a9707-8fff-4342-b6eb-566499d07a7b",
        "colab": {
          "base_uri": "https://localhost:8080/",
          "height": 311
        }
      },
      "cell_type": "code",
      "source": [
        "import matplotlib.pyplot as plt\n",
        "%matplotlib inline\n",
        "l = np.array(l)\n",
        "l_avg = np.mean(l.reshape(-1, 10), axis=1)   # Average reward over every 10 iterations\n",
        "plt.scatter(np.arange(len(l_avg)),l_avg)\n",
        "plt.xlabel('Iteration Number')\n",
        "plt.ylabel('Average Reward over 10 iterations')\n",
        "plt.title('Reward in Basic Q-Learning')"
      ],
      "execution_count": 15,
      "outputs": [
        {
          "output_type": "execute_result",
          "data": {
            "text/plain": [
              "Text(0.5, 1.0, 'Reward in Basic Q-Learning')"
            ]
          },
          "metadata": {
            "tags": []
          },
          "execution_count": 15
        },
        {
          "output_type": "display_data",
          "data": {
            "image/png": "[encoded data removed]",
            "text/plain": [
              "<Figure size 432x288 with 1 Axes>"
            ]
          },
          "metadata": {
            "tags": []
          }
        }
      ]
    },
    {
      "metadata": {
        "id": "z5B_s5kidSv2",
        "colab_type": "text"
      },
      "cell_type": "markdown",
      "source": [
        "### goal not fix which mean the agent has not learnt the environment yet. Still the values are positive we should appretiate that."
      ]
    },
    {
      "metadata": {
        "id": "Dk121CsNadZQ",
        "colab_type": "code",
        "outputId": "946b4dd7-8db7-43db-8979-13f37441a83f",
        "colab": {
          "base_uri": "https://localhost:8080/",
          "height": 153
        }
      },
      "cell_type": "code",
      "source": [
        "np.array(l).shape\n",
        "\n",
        "env.render()"
      ],
      "execution_count": 16,
      "outputs": [
        {
          "output_type": "stream",
          "text": [
            "+---------+\n",
            "|\u001b[43mR\u001b[0m: | : :\u001b[34;1mG\u001b[0m|\n",
            "| : : : : |\n",
            "| : : : : |\n",
            "| | : | : |\n",
            "|\u001b[35mY\u001b[0m| : |B: |\n",
            "+---------+\n",
            "  (North)\n"
          ],
          "name": "stdout"
        }
      ]
    },
    {
      "metadata": {
        "id": "yxwy01u8ciS4",
        "colab_type": "text"
      },
      "cell_type": "markdown",
      "source": [
        "### just random steps. No Q table."
      ]
    },
    {
      "metadata": {
        "id": "Dme5fey6av_6",
        "colab_type": "code",
        "colab": {}
      },
      "cell_type": "code",
      "source": [
        "l=[]\n",
        "for episode in range(1000):\n",
        "    done = False\n",
        "    G, reward = 0,0\n",
        "    state = env.reset()\n",
        "    while reward < 20:\n",
        "            action = env.action_space.sample() #1\n",
        "            state, reward, done, info = env.step(action) #2\n",
        "            G += reward\n",
        "    #if episode % 10 == 0:\n",
        "#        print('Episode {} Total Reward: {}'.format(episode,G))\n",
        "    l.append(G)"
      ],
      "execution_count": 0,
      "outputs": []
    },
    {
      "metadata": {
        "id": "CB1TLrQTcdbt",
        "colab_type": "code",
        "outputId": "d6ff09ac-dcac-4c02-be0b-889aa1a64f5c",
        "colab": {
          "base_uri": "https://localhost:8080/",
          "height": 311
        }
      },
      "cell_type": "code",
      "source": [
        "import matplotlib.pyplot as plt\n",
        "%matplotlib inline\n",
        "plt.scatter(np.arange(len(l)),l)\n",
        "plt.xlabel('Number of Episodes')\n",
        "plt.ylabel('Cumulative Reward')\n",
        "plt.title('Random action')\n",
        "print(reward)"
      ],
      "execution_count": 18,
      "outputs": [
        {
          "output_type": "stream",
          "text": [
            "20\n"
          ],
          "name": "stdout"
        },
        {
          "output_type": "display_data",
          "data": {
            "image/png": "[encoded data removed]",
            "text/plain": [
              "<Figure size 432x288 with 1 Axes>"
            ]
          },
          "metadata": {
            "tags": []
          }
        }
      ]
    },
    {
      "metadata": {
        "id": "3EE85Uifu6wC",
        "colab_type": "code",
        "outputId": "e031bde4-15e3-47e0-fa21-5df7df481ebf",
        "colab": {
          "base_uri": "https://localhost:8080/",
          "height": 311
        }
      },
      "cell_type": "code",
      "source": [
        "plt.hist(l);\n",
        "plt.xlabel('Cumulative Reward')\n",
        "plt.ylabel('Number of Episodes')\n",
        "plt.title('Random Agent');\n",
        "max(l)"
      ],
      "execution_count": 19,
      "outputs": [
        {
          "output_type": "execute_result",
          "data": {
            "text/plain": [
              "-120"
            ]
          },
          "metadata": {
            "tags": []
          },
          "execution_count": 19
        },
        {
          "output_type": "display_data",
          "data": {
            "image/png": "[encoded data removed]",
            "text/plain": [
              "<Figure size 432x288 with 1 Axes>"
            ]
          },
          "metadata": {
            "tags": []
          }
        }
      ]
    },
    {
      "metadata": {
        "id": "mjMFo4g3r_E6",
        "colab_type": "code",
        "colab": {
          "base_uri": "https://localhost:8080/",
          "height": 34
        },
        "outputId": "b1a1919c-2d31-4cf4-e8fd-f8a1adbfb138"
      },
      "cell_type": "code",
      "source": [
        "import gym\n",
        "\n",
        "env = gym.make(\"Taxi-v2\")\n",
        "env.reset()\n",
        "counter = 0\n",
        "reward = 0\n",
        "while reward < 20:\n",
        "  #  print (\"reward : \",reward,\"ittereation : \",counter)\n",
        "    state, reward, done, info = env.step(env.action_space.sample())\n",
        "    counter +=1\n",
        "print('Random Actions Complete the game in ',counter,'iterations')"
      ],
      "execution_count": 20,
      "outputs": [
        {
          "output_type": "stream",
          "text": [
            "Random Actions Complete the game in  766 iterations\n"
          ],
          "name": "stdout"
        }
      ]
    },
    {
      "metadata": {
        "id": "d8jx38Afco7Z",
        "colab_type": "text"
      },
      "cell_type": "markdown",
      "source": [
        "### Goal values are extremely negetive which tell that to complete the game the taxi has taken n number of wrong steps, silly!\n",
        "### the agent is not only poor but it not wrong to say that it is of use"
      ]
    }
  ]
}